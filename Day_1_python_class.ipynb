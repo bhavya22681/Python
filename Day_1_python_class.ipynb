{
  "cells": [
    {
      "cell_type": "code",
      "source": [
        "a=10\n",
        "b=10\n",
        "type(a)\n"
      ],
      "metadata": {
        "colab": {
          "base_uri": "https://localhost:8080/"
        },
        "id": "Mj0i-z_M-hr2",
        "outputId": "6f792150-8335-42ae-8d6e-b076dd85cf68"
      },
      "execution_count": 1,
      "outputs": [
        {
          "output_type": "execute_result",
          "data": {
            "text/plain": [
              "int"
            ]
          },
          "metadata": {},
          "execution_count": 1
        }
      ]
    },
    {
      "cell_type": "code",
      "source": [
        "a=9.6+2j\n",
        "type(a)"
      ],
      "metadata": {
        "colab": {
          "base_uri": "https://localhost:8080/"
        },
        "id": "WoYLSszM-hoe",
        "outputId": "d45360e9-964d-492a-d5b5-b16aa70e4ea0"
      },
      "execution_count": 2,
      "outputs": [
        {
          "output_type": "execute_result",
          "data": {
            "text/plain": [
              "complex"
            ]
          },
          "metadata": {},
          "execution_count": 2
        }
      ]
    },
    {
      "cell_type": "code",
      "source": [
        "string='''data science\n",
        "machine learning'''\n",
        "type(string)"
      ],
      "metadata": {
        "colab": {
          "base_uri": "https://localhost:8080/"
        },
        "id": "2L3BZgJC-hmh",
        "outputId": "ee37d8e6-d9d9-4898-d4c8-e9f25b9ff3dd"
      },
      "execution_count": 5,
      "outputs": [
        {
          "output_type": "execute_result",
          "data": {
            "text/plain": [
              "str"
            ]
          },
          "metadata": {},
          "execution_count": 5
        }
      ]
    },
    {
      "cell_type": "code",
      "source": [
        "string"
      ],
      "metadata": {
        "colab": {
          "base_uri": "https://localhost:8080/",
          "height": 36
        },
        "id": "Z2hsCs7N-hjZ",
        "outputId": "72c6a697-20d1-49a2-eafc-e661e4756756"
      },
      "execution_count": 6,
      "outputs": [
        {
          "output_type": "execute_result",
          "data": {
            "text/plain": [
              "'data science\\nmachine learning'"
            ],
            "application/vnd.google.colaboratory.intrinsic+json": {
              "type": "string"
            }
          },
          "metadata": {},
          "execution_count": 6
        }
      ]
    },
    {
      "cell_type": "code",
      "source": [
        "\"machine lear'ning\""
      ],
      "metadata": {
        "colab": {
          "base_uri": "https://localhost:8080/",
          "height": 36
        },
        "id": "KTXKcCDG-hhd",
        "outputId": "2576cc26-6c02-4441-a7a6-96bfb0b70731"
      },
      "execution_count": 7,
      "outputs": [
        {
          "output_type": "execute_result",
          "data": {
            "text/plain": [
              "\"machine lear'ning\""
            ],
            "application/vnd.google.colaboratory.intrinsic+json": {
              "type": "string"
            }
          },
          "metadata": {},
          "execution_count": 7
        }
      ]
    },
    {
      "cell_type": "code",
      "source": [
        "string='Machine learning'\n",
        "type(string)"
      ],
      "metadata": {
        "id": "W6ov66YlCLVc",
        "outputId": "88bcfc07-9ba6-41cc-a38b-549d5c428a9c",
        "colab": {
          "base_uri": "https://localhost:8080/"
        }
      },
      "execution_count": 8,
      "outputs": [
        {
          "output_type": "execute_result",
          "data": {
            "text/plain": [
              "str"
            ]
          },
          "metadata": {},
          "execution_count": 8
        }
      ]
    },
    {
      "cell_type": "code",
      "source": [
        "string"
      ],
      "metadata": {
        "id": "NeccRCfUCLl5",
        "outputId": "8cac4766-6954-448b-f136-808d126a0753",
        "colab": {
          "base_uri": "https://localhost:8080/",
          "height": 36
        }
      },
      "execution_count": 9,
      "outputs": [
        {
          "output_type": "execute_result",
          "data": {
            "text/plain": [
              "'Machine learning'"
            ],
            "application/vnd.google.colaboratory.intrinsic+json": {
              "type": "string"
            }
          },
          "metadata": {},
          "execution_count": 9
        }
      ]
    },
    {
      "cell_type": "code",
      "source": [
        "string[0:3]"
      ],
      "metadata": {
        "id": "ou9ZC1PDCLoa",
        "outputId": "911128a4-8a6e-4c21-8427-f862583e664d",
        "colab": {
          "base_uri": "https://localhost:8080/",
          "height": 36
        }
      },
      "execution_count": 10,
      "outputs": [
        {
          "output_type": "execute_result",
          "data": {
            "text/plain": [
              "'Mac'"
            ],
            "application/vnd.google.colaboratory.intrinsic+json": {
              "type": "string"
            }
          },
          "metadata": {},
          "execution_count": 10
        }
      ]
    },
    {
      "cell_type": "code",
      "source": [
        "string[2:5]"
      ],
      "metadata": {
        "id": "-Ljaut3rCLrL",
        "outputId": "860faab1-5329-45f8-df9d-78aa90d5e351",
        "colab": {
          "base_uri": "https://localhost:8080/",
          "height": 36
        }
      },
      "execution_count": 11,
      "outputs": [
        {
          "output_type": "execute_result",
          "data": {
            "text/plain": [
              "'chi'"
            ],
            "application/vnd.google.colaboratory.intrinsic+json": {
              "type": "string"
            }
          },
          "metadata": {},
          "execution_count": 11
        }
      ]
    },
    {
      "cell_type": "code",
      "source": [
        "string[-3:-7]"
      ],
      "metadata": {
        "id": "Tim5aZSECLuC",
        "outputId": "2c3eb583-ef7e-4d21-c4bc-091dae186ed4",
        "colab": {
          "base_uri": "https://localhost:8080/",
          "height": 36
        }
      },
      "execution_count": 12,
      "outputs": [
        {
          "output_type": "execute_result",
          "data": {
            "text/plain": [
              "''"
            ],
            "application/vnd.google.colaboratory.intrinsic+json": {
              "type": "string"
            }
          },
          "metadata": {},
          "execution_count": 12
        }
      ]
    },
    {
      "cell_type": "code",
      "source": [
        "string[-6:-2]"
      ],
      "metadata": {
        "id": "xkno6MEuCLw1",
        "outputId": "ffab07a8-1163-415e-e273-8611c23238da",
        "colab": {
          "base_uri": "https://localhost:8080/",
          "height": 36
        }
      },
      "execution_count": 13,
      "outputs": [
        {
          "output_type": "execute_result",
          "data": {
            "text/plain": [
              "'arni'"
            ],
            "application/vnd.google.colaboratory.intrinsic+json": {
              "type": "string"
            }
          },
          "metadata": {},
          "execution_count": 13
        }
      ]
    },
    {
      "cell_type": "code",
      "source": [
        "string[7]"
      ],
      "metadata": {
        "id": "xpdVEkAHCLzY",
        "outputId": "472d178e-e294-4eb2-d5f2-d19988cfaa25",
        "colab": {
          "base_uri": "https://localhost:8080/",
          "height": 36
        }
      },
      "execution_count": 14,
      "outputs": [
        {
          "output_type": "execute_result",
          "data": {
            "text/plain": [
              "' '"
            ],
            "application/vnd.google.colaboratory.intrinsic+json": {
              "type": "string"
            }
          },
          "metadata": {},
          "execution_count": 14
        }
      ]
    },
    {
      "cell_type": "code",
      "source": [
        "string[-4]"
      ],
      "metadata": {
        "id": "g0voKnF7CL22",
        "outputId": "9ccf5182-6005-4c3a-dc22-c6f8585523f7",
        "colab": {
          "base_uri": "https://localhost:8080/",
          "height": 36
        }
      },
      "execution_count": 15,
      "outputs": [
        {
          "output_type": "execute_result",
          "data": {
            "text/plain": [
              "'n'"
            ],
            "application/vnd.google.colaboratory.intrinsic+json": {
              "type": "string"
            }
          },
          "metadata": {},
          "execution_count": 15
        }
      ]
    },
    {
      "cell_type": "code",
      "source": [
        "string[:3]\n"
      ],
      "metadata": {
        "id": "Q2ptsimwCMBM",
        "outputId": "fe7b837e-5e25-42e0-ba4f-e1962052aff8",
        "colab": {
          "base_uri": "https://localhost:8080/",
          "height": 36
        }
      },
      "execution_count": 16,
      "outputs": [
        {
          "output_type": "execute_result",
          "data": {
            "text/plain": [
              "'Mac'"
            ],
            "application/vnd.google.colaboratory.intrinsic+json": {
              "type": "string"
            }
          },
          "metadata": {},
          "execution_count": 16
        }
      ]
    },
    {
      "cell_type": "code",
      "source": [
        "string[:-6]"
      ],
      "metadata": {
        "id": "NYWSD4KRCMQn",
        "outputId": "8f8df6bb-be77-4f4d-dc2b-30f38580280b",
        "colab": {
          "base_uri": "https://localhost:8080/",
          "height": 36
        }
      },
      "execution_count": 17,
      "outputs": [
        {
          "output_type": "execute_result",
          "data": {
            "text/plain": [
              "'Machine le'"
            ],
            "application/vnd.google.colaboratory.intrinsic+json": {
              "type": "string"
            }
          },
          "metadata": {},
          "execution_count": 17
        }
      ]
    },
    {
      "cell_type": "code",
      "source": [
        "string[-3:]"
      ],
      "metadata": {
        "id": "_vC35wyWFj7q",
        "outputId": "2875ff44-ebc1-44c1-f84c-722e8b1551fa",
        "colab": {
          "base_uri": "https://localhost:8080/",
          "height": 36
        }
      },
      "execution_count": 18,
      "outputs": [
        {
          "output_type": "execute_result",
          "data": {
            "text/plain": [
              "'ing'"
            ],
            "application/vnd.google.colaboratory.intrinsic+json": {
              "type": "string"
            }
          },
          "metadata": {},
          "execution_count": 18
        }
      ]
    },
    {
      "cell_type": "code",
      "source": [
        "string=\"Bhavya Royal\"\n",
        "string.upper()"
      ],
      "metadata": {
        "id": "VHB9BnEbFkNm",
        "outputId": "7f5a9fb2-3da4-4761-e42c-db7f5ac67586",
        "colab": {
          "base_uri": "https://localhost:8080/",
          "height": 36
        }
      },
      "execution_count": 19,
      "outputs": [
        {
          "output_type": "execute_result",
          "data": {
            "text/plain": [
              "'BHAVYA ROYAL'"
            ],
            "application/vnd.google.colaboratory.intrinsic+json": {
              "type": "string"
            }
          },
          "metadata": {},
          "execution_count": 19
        }
      ]
    },
    {
      "cell_type": "code",
      "source": [
        "string=\"Bhavya Royal\"\n",
        "string.lower()"
      ],
      "metadata": {
        "id": "2YNzK0pWFkXe",
        "outputId": "737f0453-4a39-4110-c9d3-bc40c15f233b",
        "colab": {
          "base_uri": "https://localhost:8080/",
          "height": 36
        }
      },
      "execution_count": 20,
      "outputs": [
        {
          "output_type": "execute_result",
          "data": {
            "text/plain": [
              "'bhavya royal'"
            ],
            "application/vnd.google.colaboratory.intrinsic+json": {
              "type": "string"
            }
          },
          "metadata": {},
          "execution_count": 20
        }
      ]
    },
    {
      "cell_type": "code",
      "source": [
        "string=\"Bhavya Royal\"\n",
        "string.islower()"
      ],
      "metadata": {
        "id": "SJWqTzbgFkjE",
        "outputId": "5bce4259-116c-44af-f954-e25789417697",
        "colab": {
          "base_uri": "https://localhost:8080/"
        }
      },
      "execution_count": 21,
      "outputs": [
        {
          "output_type": "execute_result",
          "data": {
            "text/plain": [
              "False"
            ]
          },
          "metadata": {},
          "execution_count": 21
        }
      ]
    },
    {
      "cell_type": "code",
      "source": [
        "string=\"Bhavya Royal\"\n",
        "string.isupper()"
      ],
      "metadata": {
        "id": "n_vEDKIpFkm2",
        "outputId": "6d5b9b32-6c07-42f4-c1a0-cb45ed5091b4",
        "colab": {
          "base_uri": "https://localhost:8080/"
        }
      },
      "execution_count": 23,
      "outputs": [
        {
          "output_type": "execute_result",
          "data": {
            "text/plain": [
              "False"
            ]
          },
          "metadata": {},
          "execution_count": 23
        }
      ]
    },
    {
      "cell_type": "code",
      "source": [
        "string=\"bhavya royal\"\n",
        "string.islower()"
      ],
      "metadata": {
        "id": "ihH9FzDEFkqy",
        "outputId": "9df11d0f-0873-4139-e9a5-bb158d05d8b4",
        "colab": {
          "base_uri": "https://localhost:8080/"
        }
      },
      "execution_count": 22,
      "outputs": [
        {
          "output_type": "execute_result",
          "data": {
            "text/plain": [
              "True"
            ]
          },
          "metadata": {},
          "execution_count": 22
        }
      ]
    },
    {
      "cell_type": "code",
      "source": [
        "string=\"BHAVYA ROYAL\"\n",
        "string.isupper()"
      ],
      "metadata": {
        "id": "cnZwSjehFkuE",
        "outputId": "10e36d73-2043-403b-f077-128fcced7e02",
        "colab": {
          "base_uri": "https://localhost:8080/"
        }
      },
      "execution_count": 24,
      "outputs": [
        {
          "output_type": "execute_result",
          "data": {
            "text/plain": [
              "True"
            ]
          },
          "metadata": {},
          "execution_count": 24
        }
      ]
    },
    {
      "cell_type": "code",
      "source": [
        "string=\"Machine learning\"\n",
        "string.title()"
      ],
      "metadata": {
        "id": "hMiqd_S_Fkx-",
        "outputId": "c9cd164f-6275-4494-a988-80f76c3a3b5d",
        "colab": {
          "base_uri": "https://localhost:8080/",
          "height": 36
        }
      },
      "execution_count": 25,
      "outputs": [
        {
          "output_type": "execute_result",
          "data": {
            "text/plain": [
              "'Machine Learning'"
            ],
            "application/vnd.google.colaboratory.intrinsic+json": {
              "type": "string"
            }
          },
          "metadata": {},
          "execution_count": 25
        }
      ]
    },
    {
      "cell_type": "code",
      "source": [
        "string=\"machine learning\"\n",
        "string.title()"
      ],
      "metadata": {
        "id": "Z13CCwbWFk1t",
        "outputId": "76ef221f-ac74-4d30-c414-3a1337c87b74",
        "colab": {
          "base_uri": "https://localhost:8080/",
          "height": 36
        }
      },
      "execution_count": 26,
      "outputs": [
        {
          "output_type": "execute_result",
          "data": {
            "text/plain": [
              "'Machine Learning'"
            ],
            "application/vnd.google.colaboratory.intrinsic+json": {
              "type": "string"
            }
          },
          "metadata": {},
          "execution_count": 26
        }
      ]
    },
    {
      "cell_type": "code",
      "source": [
        "string=\"machine learning\"\n",
        "string.capitalize()"
      ],
      "metadata": {
        "id": "0RBupgMSGkc1",
        "outputId": "19286d7e-b856-4963-c85f-3cd32e4e67c3",
        "colab": {
          "base_uri": "https://localhost:8080/",
          "height": 36
        }
      },
      "execution_count": 27,
      "outputs": [
        {
          "output_type": "execute_result",
          "data": {
            "text/plain": [
              "'Machine learning'"
            ],
            "application/vnd.google.colaboratory.intrinsic+json": {
              "type": "string"
            }
          },
          "metadata": {},
          "execution_count": 27
        }
      ]
    },
    {
      "cell_type": "code",
      "source": [
        "string=\"Bhavya Royal\"\n",
        "string.swapcase()"
      ],
      "metadata": {
        "id": "QvFNOAJxGkky",
        "outputId": "a212e0ac-df8d-4aad-e1ef-4fa4ee572d25",
        "colab": {
          "base_uri": "https://localhost:8080/",
          "height": 36
        }
      },
      "execution_count": 28,
      "outputs": [
        {
          "output_type": "execute_result",
          "data": {
            "text/plain": [
              "'bHAVYA rOYAL'"
            ],
            "application/vnd.google.colaboratory.intrinsic+json": {
              "type": "string"
            }
          },
          "metadata": {},
          "execution_count": 28
        }
      ]
    },
    {
      "cell_type": "code",
      "source": [
        "string=\"bhavya royal\"\n",
        "string.swapcase()"
      ],
      "metadata": {
        "id": "rqFkAorfGkn9",
        "outputId": "f013b83e-f209-4066-ab4d-d661b0a45f77",
        "colab": {
          "base_uri": "https://localhost:8080/",
          "height": 36
        }
      },
      "execution_count": 29,
      "outputs": [
        {
          "output_type": "execute_result",
          "data": {
            "text/plain": [
              "'BHAVYA ROYAL'"
            ],
            "application/vnd.google.colaboratory.intrinsic+json": {
              "type": "string"
            }
          },
          "metadata": {},
          "execution_count": 29
        }
      ]
    },
    {
      "cell_type": "code",
      "source": [
        "string=\"bhavya royal\"\n",
        "string.isalpha()"
      ],
      "metadata": {
        "id": "xK1X2ntyGkrZ",
        "outputId": "fbf45db7-e527-4b20-ddfc-b33e26274022",
        "colab": {
          "base_uri": "https://localhost:8080/"
        }
      },
      "execution_count": 30,
      "outputs": [
        {
          "output_type": "execute_result",
          "data": {
            "text/plain": [
              "False"
            ]
          },
          "metadata": {},
          "execution_count": 30
        }
      ]
    },
    {
      "cell_type": "code",
      "source": [
        "string=\"bhavya22royal\"\n",
        "string.isalnum()"
      ],
      "metadata": {
        "id": "BYWlu-sDGku4",
        "outputId": "fe12849b-77a2-48bd-a22b-8da27c43b770",
        "colab": {
          "base_uri": "https://localhost:8080/"
        }
      },
      "execution_count": 31,
      "outputs": [
        {
          "output_type": "execute_result",
          "data": {
            "text/plain": [
              "True"
            ]
          },
          "metadata": {},
          "execution_count": 31
        }
      ]
    },
    {
      "cell_type": "code",
      "source": [
        "string=\"200322\"\n",
        "string.isnumeric()"
      ],
      "metadata": {
        "id": "ylXlPwFjFk4-",
        "outputId": "4ca32f66-42e7-4170-9f73-e42a0ac74da3",
        "colab": {
          "base_uri": "https://localhost:8080/"
        }
      },
      "execution_count": 32,
      "outputs": [
        {
          "output_type": "execute_result",
          "data": {
            "text/plain": [
              "True"
            ]
          },
          "metadata": {},
          "execution_count": 32
        }
      ]
    },
    {
      "cell_type": "code",
      "source": [
        "string=\"machine learning\"\n",
        "string.startswith('machine')"
      ],
      "metadata": {
        "id": "-ew67S1kFmIQ",
        "outputId": "b67dcda4-92c0-4b6e-c3e9-060fdabe79af",
        "colab": {
          "base_uri": "https://localhost:8080/"
        }
      },
      "execution_count": 33,
      "outputs": [
        {
          "output_type": "execute_result",
          "data": {
            "text/plain": [
              "True"
            ]
          },
          "metadata": {},
          "execution_count": 33
        }
      ]
    },
    {
      "cell_type": "code",
      "source": [
        "string=\"Bhavya Royal\"\n",
        "string.startswith('RoyaL')"
      ],
      "metadata": {
        "id": "IZQAVz-LFmLw",
        "outputId": "13d5b05b-bab5-4260-a4d1-e606d1943624",
        "colab": {
          "base_uri": "https://localhost:8080/"
        }
      },
      "execution_count": 34,
      "outputs": [
        {
          "output_type": "execute_result",
          "data": {
            "text/plain": [
              "False"
            ]
          },
          "metadata": {},
          "execution_count": 34
        }
      ]
    },
    {
      "cell_type": "code",
      "source": [
        "string=\"Bhavya Royal\"\n",
        "string.endswith('Bhavya')"
      ],
      "metadata": {
        "id": "wOlcmeSbIuQI",
        "outputId": "c5d65686-5da7-4e27-b677-0a2eace335bb",
        "colab": {
          "base_uri": "https://localhost:8080/"
        }
      },
      "execution_count": 35,
      "outputs": [
        {
          "output_type": "execute_result",
          "data": {
            "text/plain": [
              "False"
            ]
          },
          "metadata": {},
          "execution_count": 35
        }
      ]
    },
    {
      "cell_type": "code",
      "source": [
        "string=\"Bhavya Royal\"\n",
        "string.endswith('Royal')"
      ],
      "metadata": {
        "id": "w4D5TVgMIuTe",
        "outputId": "07045789-0bce-406e-877f-868af36125a8",
        "colab": {
          "base_uri": "https://localhost:8080/"
        }
      },
      "execution_count": 36,
      "outputs": [
        {
          "output_type": "execute_result",
          "data": {
            "text/plain": [
              "True"
            ]
          },
          "metadata": {},
          "execution_count": 36
        }
      ]
    },
    {
      "cell_type": "code",
      "source": [
        "string=\"Bhavya Royal \"\n",
        "string.endswith('')"
      ],
      "metadata": {
        "id": "5vh0a4EwJYTR",
        "outputId": "5a89ef1e-17d3-436d-f205-2ccacda81d9f",
        "colab": {
          "base_uri": "https://localhost:8080/"
        }
      },
      "execution_count": 37,
      "outputs": [
        {
          "output_type": "execute_result",
          "data": {
            "text/plain": [
              "True"
            ]
          },
          "metadata": {},
          "execution_count": 37
        }
      ]
    },
    {
      "cell_type": "code",
      "source": [
        "string=\" \"\n",
        "string.isspace()"
      ],
      "metadata": {
        "id": "V2p7t57sJYfe",
        "outputId": "6a04ab70-bb9a-4791-b102-f90f8eebc8b2",
        "colab": {
          "base_uri": "https://localhost:8080/"
        }
      },
      "execution_count": 38,
      "outputs": [
        {
          "output_type": "execute_result",
          "data": {
            "text/plain": [
              "True"
            ]
          },
          "metadata": {},
          "execution_count": 38
        }
      ]
    },
    {
      "cell_type": "code",
      "source": [
        "string=\"machinelearning\"\n",
        "string.isspace()"
      ],
      "metadata": {
        "id": "yjpBebcmJYi4",
        "outputId": "27e50c43-0d1b-4f9c-960c-3528d6775a0e",
        "colab": {
          "base_uri": "https://localhost:8080/"
        }
      },
      "execution_count": 39,
      "outputs": [
        {
          "output_type": "execute_result",
          "data": {
            "text/plain": [
              "False"
            ]
          },
          "metadata": {},
          "execution_count": 39
        }
      ]
    },
    {
      "cell_type": "code",
      "source": [
        "string=\"Bhavya Royal\"\n",
        "string.split(\"a\")"
      ],
      "metadata": {
        "id": "tjc5Yd3sJ4dq",
        "outputId": "668a8e94-784e-4ecb-bc93-7edf4d9098f2",
        "colab": {
          "base_uri": "https://localhost:8080/"
        }
      },
      "execution_count": 40,
      "outputs": [
        {
          "output_type": "execute_result",
          "data": {
            "text/plain": [
              "['Bh', 'vy', ' Roy', 'l']"
            ]
          },
          "metadata": {},
          "execution_count": 40
        }
      ]
    },
    {
      "cell_type": "code",
      "source": [
        "string=\"Machine Learning\"\n",
        "string.split()"
      ],
      "metadata": {
        "id": "a2PCM3lbJ4m6",
        "outputId": "89ddcf44-9aaa-4408-e48b-1c3c440d41d7",
        "colab": {
          "base_uri": "https://localhost:8080/"
        }
      },
      "execution_count": 41,
      "outputs": [
        {
          "output_type": "execute_result",
          "data": {
            "text/plain": [
              "['Machine', 'Learning']"
            ]
          },
          "metadata": {},
          "execution_count": 41
        }
      ]
    },
    {
      "cell_type": "code",
      "source": [],
      "metadata": {
        "id": "QRWjW5v0J4qZ"
      },
      "execution_count": null,
      "outputs": []
    }
  ],
  "metadata": {
    "colab": {
      "toc_visible": true,
      "provenance": []
    },
    "kernelspec": {
      "display_name": "Python 3",
      "name": "python3"
    }
  },
  "nbformat": 4,
  "nbformat_minor": 0
}