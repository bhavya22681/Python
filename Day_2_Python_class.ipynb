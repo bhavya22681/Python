{
  "cells": [
    {
      "cell_type": "code",
      "source": [
        "x=\"Science\"\n",
        "len(x)\n"
      ],
      "metadata": {
        "colab": {
          "base_uri": "https://localhost:8080/"
        },
        "id": "oxVM6ZyjBmZN",
        "outputId": "5cf74c39-5055-4c09-c479-87fad32658f9"
      },
      "execution_count": 1,
      "outputs": [
        {
          "output_type": "execute_result",
          "data": {
            "text/plain": [
              "7"
            ]
          },
          "metadata": {},
          "execution_count": 1
        }
      ]
    },
    {
      "cell_type": "code",
      "source": [
        "x.upper()"
      ],
      "metadata": {
        "colab": {
          "base_uri": "https://localhost:8080/",
          "height": 36
        },
        "id": "g7m_STlJBmVa",
        "outputId": "f56e58c7-bc89-450b-e911-dd59a84ad1ae"
      },
      "execution_count": 2,
      "outputs": [
        {
          "output_type": "execute_result",
          "data": {
            "text/plain": [
              "'SCIENCE'"
            ],
            "application/vnd.google.colaboratory.intrinsic+json": {
              "type": "string"
            }
          },
          "metadata": {},
          "execution_count": 2
        }
      ]
    },
    {
      "cell_type": "code",
      "source": [
        "x=\"data science\"\n",
        "x.find(\"s\")"
      ],
      "metadata": {
        "colab": {
          "base_uri": "https://localhost:8080/"
        },
        "id": "wjN5oShEBlad",
        "outputId": "7a49f5db-c4f1-43bf-b5b9-0376a36102fd"
      },
      "execution_count": 5,
      "outputs": [
        {
          "output_type": "execute_result",
          "data": {
            "text/plain": [
              "5"
            ]
          },
          "metadata": {},
          "execution_count": 5
        }
      ]
    },
    {
      "cell_type": "code",
      "source": [
        "x=\"Data science\"\n",
        "x.find(\"enc\")"
      ],
      "metadata": {
        "colab": {
          "base_uri": "https://localhost:8080/"
        },
        "id": "MUCa8aZNBlXd",
        "outputId": "fe0f84e4-48d1-4423-e1cc-d2b1bb488e3c"
      },
      "execution_count": 8,
      "outputs": [
        {
          "output_type": "execute_result",
          "data": {
            "text/plain": [
              "8"
            ]
          },
          "metadata": {},
          "execution_count": 8
        }
      ]
    },
    {
      "cell_type": "code",
      "source": [
        "x=\" data \"\n",
        "len(x)"
      ],
      "metadata": {
        "colab": {
          "base_uri": "https://localhost:8080/"
        },
        "id": "5XcoZDBwBlTE",
        "outputId": "7710d267-0fc1-4a3e-e0d6-1d677f710871"
      },
      "execution_count": 9,
      "outputs": [
        {
          "output_type": "execute_result",
          "data": {
            "text/plain": [
              "6"
            ]
          },
          "metadata": {},
          "execution_count": 9
        }
      ]
    },
    {
      "cell_type": "code",
      "source": [
        "x.strip()"
      ],
      "metadata": {
        "colab": {
          "base_uri": "https://localhost:8080/",
          "height": 36
        },
        "id": "akWe-lrsBlBv",
        "outputId": "e7004261-49b4-4bbf-f380-1c8d2b9d5fb0"
      },
      "execution_count": 10,
      "outputs": [
        {
          "output_type": "execute_result",
          "data": {
            "text/plain": [
              "'data'"
            ],
            "application/vnd.google.colaboratory.intrinsic+json": {
              "type": "string"
            }
          },
          "metadata": {},
          "execution_count": 10
        }
      ]
    },
    {
      "cell_type": "code",
      "source": [
        "x.rstrip()"
      ],
      "metadata": {
        "colab": {
          "base_uri": "https://localhost:8080/",
          "height": 36
        },
        "id": "nToHgHJTBk9p",
        "outputId": "5feb28cf-7b3b-40b7-f59c-07299b438c5e"
      },
      "execution_count": 11,
      "outputs": [
        {
          "output_type": "execute_result",
          "data": {
            "text/plain": [
              "' data'"
            ],
            "application/vnd.google.colaboratory.intrinsic+json": {
              "type": "string"
            }
          },
          "metadata": {},
          "execution_count": 11
        }
      ]
    },
    {
      "cell_type": "code",
      "source": [
        "x.lstrip()"
      ],
      "metadata": {
        "colab": {
          "base_uri": "https://localhost:8080/",
          "height": 36
        },
        "id": "uODBOrj0Bk5s",
        "outputId": "f8d28f2a-0225-415d-a59c-3d78b610ac2d"
      },
      "execution_count": 12,
      "outputs": [
        {
          "output_type": "execute_result",
          "data": {
            "text/plain": [
              "'data '"
            ],
            "application/vnd.google.colaboratory.intrinsic+json": {
              "type": "string"
            }
          },
          "metadata": {},
          "execution_count": 12
        }
      ]
    },
    {
      "cell_type": "code",
      "source": [
        "x=\"Bhavyab\""
      ],
      "metadata": {
        "id": "VbjoBbx2Bk2J"
      },
      "execution_count": 13,
      "outputs": []
    },
    {
      "cell_type": "code",
      "source": [
        "x.replace(\"B\",\"xyz\")"
      ],
      "metadata": {
        "colab": {
          "base_uri": "https://localhost:8080/",
          "height": 36
        },
        "id": "Gaq9WwZmBkyi",
        "outputId": "cdedceed-2327-46a1-a9ff-8a3c0ef5378a"
      },
      "execution_count": 15,
      "outputs": [
        {
          "output_type": "execute_result",
          "data": {
            "text/plain": [
              "'xyzhavyab'"
            ],
            "application/vnd.google.colaboratory.intrinsic+json": {
              "type": "string"
            }
          },
          "metadata": {},
          "execution_count": 15
        }
      ]
    },
    {
      "cell_type": "code",
      "source": [
        "x=\"data\"\n",
        "x.center(6,\" \")"
      ],
      "metadata": {
        "colab": {
          "base_uri": "https://localhost:8080/",
          "height": 36
        },
        "id": "5j8spmopBkvP",
        "outputId": "cafd4279-977e-433f-fa98-d77d952b80fe"
      },
      "execution_count": 16,
      "outputs": [
        {
          "output_type": "execute_result",
          "data": {
            "text/plain": [
              "' data '"
            ],
            "application/vnd.google.colaboratory.intrinsic+json": {
              "type": "string"
            }
          },
          "metadata": {},
          "execution_count": 16
        }
      ]
    },
    {
      "cell_type": "code",
      "source": [
        "x=\"30\"\n",
        "x.zfill(4)"
      ],
      "metadata": {
        "colab": {
          "base_uri": "https://localhost:8080/",
          "height": 36
        },
        "id": "j7aVbEH-Bkro",
        "outputId": "e4978bd6-160d-47ec-e4d4-405f4431404c"
      },
      "execution_count": 17,
      "outputs": [
        {
          "output_type": "execute_result",
          "data": {
            "text/plain": [
              "'0030'"
            ],
            "application/vnd.google.colaboratory.intrinsic+json": {
              "type": "string"
            }
          },
          "metadata": {},
          "execution_count": 17
        }
      ]
    },
    {
      "cell_type": "code",
      "source": [
        "x=\"bhavya royal\"\n",
        "x.split()"
      ],
      "metadata": {
        "colab": {
          "base_uri": "https://localhost:8080/"
        },
        "id": "Vfh3g46rBkoQ",
        "outputId": "06e535cd-7b0e-4daa-dd00-b6ea14ab8b28"
      },
      "execution_count": 22,
      "outputs": [
        {
          "output_type": "execute_result",
          "data": {
            "text/plain": [
              "['bhavya', 'royal']"
            ]
          },
          "metadata": {},
          "execution_count": 22
        }
      ]
    },
    {
      "cell_type": "code",
      "source": [
        "x='''data\n",
        "science'''\n",
        "x.splitlines()"
      ],
      "metadata": {
        "colab": {
          "base_uri": "https://localhost:8080/"
        },
        "id": "nuwfZ5HtBkbI",
        "outputId": "6292a25a-5c9b-4b48-c27b-3956a9d4227b"
      },
      "execution_count": 33,
      "outputs": [
        {
          "output_type": "execute_result",
          "data": {
            "text/plain": [
              "['data', 'science']"
            ]
          },
          "metadata": {},
          "execution_count": 33
        }
      ]
    },
    {
      "cell_type": "code",
      "source": [
        "\",\".join(\"bhavya\")"
      ],
      "metadata": {
        "colab": {
          "base_uri": "https://localhost:8080/",
          "height": 36
        },
        "id": "-sGviqZ3BkVW",
        "outputId": "4e2682c6-aab9-4983-8695-c7da708a5e88"
      },
      "execution_count": 34,
      "outputs": [
        {
          "output_type": "execute_result",
          "data": {
            "text/plain": [
              "'b,h,a,v,y,a'"
            ],
            "application/vnd.google.colaboratory.intrinsic+json": {
              "type": "string"
            }
          },
          "metadata": {},
          "execution_count": 34
        }
      ]
    },
    {
      "cell_type": "code",
      "source": [],
      "metadata": {
        "id": "jw1HsCdFBkR6"
      },
      "execution_count": null,
      "outputs": []
    },
    {
      "cell_type": "code",
      "source": [
        "###List datatype\n"
      ],
      "metadata": {
        "id": "afuXZA7OBkPj"
      },
      "execution_count": null,
      "outputs": []
    },
    {
      "cell_type": "code",
      "source": [
        "x=[2,3.6,4+5j,\"data\"]\n",
        "type(x)"
      ],
      "metadata": {
        "colab": {
          "base_uri": "https://localhost:8080/"
        },
        "id": "n3jpCt1lBkNH",
        "outputId": "f3a13520-e4ed-4d29-cbf4-0539a5804cf5"
      },
      "execution_count": 35,
      "outputs": [
        {
          "output_type": "execute_result",
          "data": {
            "text/plain": [
              "list"
            ]
          },
          "metadata": {},
          "execution_count": 35
        }
      ]
    },
    {
      "cell_type": "code",
      "source": [
        "x"
      ],
      "metadata": {
        "colab": {
          "base_uri": "https://localhost:8080/"
        },
        "id": "1MaOg5-LBkJm",
        "outputId": "51002434-1544-46b8-8b13-3e4c6ce469ad"
      },
      "execution_count": 36,
      "outputs": [
        {
          "output_type": "execute_result",
          "data": {
            "text/plain": [
              "[2, 3.6, (4+5j), 'data']"
            ]
          },
          "metadata": {},
          "execution_count": 36
        }
      ]
    },
    {
      "cell_type": "code",
      "source": [
        "x[3]"
      ],
      "metadata": {
        "colab": {
          "base_uri": "https://localhost:8080/",
          "height": 36
        },
        "id": "NtInmEzCBkG_",
        "outputId": "d397a66b-2571-4006-babc-033d476f2265"
      },
      "execution_count": 37,
      "outputs": [
        {
          "output_type": "execute_result",
          "data": {
            "text/plain": [
              "'data'"
            ],
            "application/vnd.google.colaboratory.intrinsic+json": {
              "type": "string"
            }
          },
          "metadata": {},
          "execution_count": 37
        }
      ]
    },
    {
      "cell_type": "code",
      "source": [
        "x[-1]"
      ],
      "metadata": {
        "colab": {
          "base_uri": "https://localhost:8080/",
          "height": 36
        },
        "id": "MXxJpOblBkEa",
        "outputId": "f76e80aa-220e-45d4-b629-e828fc405b6a"
      },
      "execution_count": 38,
      "outputs": [
        {
          "output_type": "execute_result",
          "data": {
            "text/plain": [
              "'data'"
            ],
            "application/vnd.google.colaboratory.intrinsic+json": {
              "type": "string"
            }
          },
          "metadata": {},
          "execution_count": 38
        }
      ]
    },
    {
      "cell_type": "code",
      "source": [
        "x[2:3]"
      ],
      "metadata": {
        "colab": {
          "base_uri": "https://localhost:8080/"
        },
        "id": "G3f2tKW8BkBT",
        "outputId": "101f08f3-8268-450a-8ca8-d0f712620cff"
      },
      "execution_count": 39,
      "outputs": [
        {
          "output_type": "execute_result",
          "data": {
            "text/plain": [
              "[(4+5j)]"
            ]
          },
          "metadata": {},
          "execution_count": 39
        }
      ]
    },
    {
      "cell_type": "code",
      "source": [
        "x[3:2]"
      ],
      "metadata": {
        "colab": {
          "base_uri": "https://localhost:8080/"
        },
        "id": "QkD3il6hBj_H",
        "outputId": "9f401d14-e1f7-4a09-880f-0798f0f068ba"
      },
      "execution_count": 40,
      "outputs": [
        {
          "output_type": "execute_result",
          "data": {
            "text/plain": [
              "[]"
            ]
          },
          "metadata": {},
          "execution_count": 40
        }
      ]
    },
    {
      "cell_type": "code",
      "source": [
        "x[-1].upper()[0:2]"
      ],
      "metadata": {
        "colab": {
          "base_uri": "https://localhost:8080/",
          "height": 36
        },
        "id": "SqqC8bOGHzIy",
        "outputId": "c1a93622-ddd0-48ff-ddd4-31970a88ba1e"
      },
      "execution_count": 43,
      "outputs": [
        {
          "output_type": "execute_result",
          "data": {
            "text/plain": [
              "'DA'"
            ],
            "application/vnd.google.colaboratory.intrinsic+json": {
              "type": "string"
            }
          },
          "metadata": {},
          "execution_count": 43
        }
      ]
    },
    {
      "cell_type": "code",
      "source": [
        "x"
      ],
      "metadata": {
        "colab": {
          "base_uri": "https://localhost:8080/"
        },
        "id": "mlB1H3aQHzGY",
        "outputId": "811df2c9-34f3-4476-e304-007b6b423418"
      },
      "execution_count": 44,
      "outputs": [
        {
          "output_type": "execute_result",
          "data": {
            "text/plain": [
              "[2, 3.6, (4+5j), 'data']"
            ]
          },
          "metadata": {},
          "execution_count": 44
        }
      ]
    },
    {
      "cell_type": "code",
      "source": [
        "print(x[0],type(x[0]))\n",
        "print(x[1],type(x[1]))\n",
        "print(x[2],type(x[2]))\n",
        "print(x[3],type(x[3]))"
      ],
      "metadata": {
        "colab": {
          "base_uri": "https://localhost:8080/"
        },
        "id": "4omyTadkHzD0",
        "outputId": "da7f137b-1d33-449a-f0e4-79068fc8869a"
      },
      "execution_count": 45,
      "outputs": [
        {
          "output_type": "stream",
          "name": "stdout",
          "text": [
            "2 <class 'int'>\n",
            "3.6 <class 'float'>\n",
            "(4+5j) <class 'complex'>\n",
            "data <class 'str'>\n"
          ]
        }
      ]
    },
    {
      "cell_type": "code",
      "source": [
        "x"
      ],
      "metadata": {
        "colab": {
          "base_uri": "https://localhost:8080/"
        },
        "id": "WOK0pipwHzBj",
        "outputId": "668dbbad-16c5-4925-f9d9-1f5728fd836f"
      },
      "execution_count": 46,
      "outputs": [
        {
          "output_type": "execute_result",
          "data": {
            "text/plain": [
              "[2, 3.6, (4+5j), 'data']"
            ]
          },
          "metadata": {},
          "execution_count": 46
        }
      ]
    },
    {
      "cell_type": "code",
      "source": [
        "x[-3]/2"
      ],
      "metadata": {
        "colab": {
          "base_uri": "https://localhost:8080/"
        },
        "id": "p4Fmc9hIHy_A",
        "outputId": "f658f9a6-1854-4942-ff86-c5d8c6306f5e"
      },
      "execution_count": 47,
      "outputs": [
        {
          "output_type": "execute_result",
          "data": {
            "text/plain": [
              "1.8"
            ]
          },
          "metadata": {},
          "execution_count": 47
        }
      ]
    },
    {
      "cell_type": "code",
      "source": [
        "x=[1,2,3,4,6]\n",
        "x[-2]+x[2]"
      ],
      "metadata": {
        "colab": {
          "base_uri": "https://localhost:8080/"
        },
        "id": "n37IHECOHy8o",
        "outputId": "f7b9d50a-6437-4553-8ca6-e605086a7b82"
      },
      "execution_count": 48,
      "outputs": [
        {
          "output_type": "execute_result",
          "data": {
            "text/plain": [
              "7"
            ]
          },
          "metadata": {},
          "execution_count": 48
        }
      ]
    },
    {
      "cell_type": "code",
      "source": [
        "x[-2]/x[2]"
      ],
      "metadata": {
        "colab": {
          "base_uri": "https://localhost:8080/"
        },
        "id": "9UsouxfrHy6M",
        "outputId": "82310d53-ac56-48c6-df67-2357c106b5f0"
      },
      "execution_count": 49,
      "outputs": [
        {
          "output_type": "execute_result",
          "data": {
            "text/plain": [
              "1.3333333333333333"
            ]
          },
          "metadata": {},
          "execution_count": 49
        }
      ]
    },
    {
      "cell_type": "code",
      "source": [
        "x=['data', 'science',['machine', 'learning']]"
      ],
      "metadata": {
        "id": "c-xf6VOeJFf5"
      },
      "execution_count": 51,
      "outputs": []
    },
    {
      "cell_type": "code",
      "source": [
        "x"
      ],
      "metadata": {
        "colab": {
          "base_uri": "https://localhost:8080/"
        },
        "id": "WnTQsjm6JFda",
        "outputId": "e7b3cdd0-a255-4424-fd81-e9eb4e8ce03a"
      },
      "execution_count": 52,
      "outputs": [
        {
          "output_type": "execute_result",
          "data": {
            "text/plain": [
              "['data', 'science', ['machine', 'learning']]"
            ]
          },
          "metadata": {},
          "execution_count": 52
        }
      ]
    },
    {
      "cell_type": "code",
      "source": [
        "x[2][-1][-3:].upper()"
      ],
      "metadata": {
        "colab": {
          "base_uri": "https://localhost:8080/",
          "height": 36
        },
        "id": "MMMo8ZnSJFbB",
        "outputId": "9d511b38-64d5-4eb2-c438-c252fab32b43"
      },
      "execution_count": 53,
      "outputs": [
        {
          "output_type": "execute_result",
          "data": {
            "text/plain": [
              "'ING'"
            ],
            "application/vnd.google.colaboratory.intrinsic+json": {
              "type": "string"
            }
          },
          "metadata": {},
          "execution_count": 53
        }
      ]
    },
    {
      "cell_type": "code",
      "source": [
        "customers = [\n",
        "    [\"Ravi\", [\"Shampoo\",\"Toothpaste\"]],\n",
        "    [\"Anjali\", [\"Rice\", \"Wheat\", \"Oil\"]],\n",
        "    [\"Kiran\", [\"Biscuits\", \"Milk\"]]\n",
        "]"
      ],
      "metadata": {
        "id": "aKvp1-UNJFY9"
      },
      "execution_count": 54,
      "outputs": []
    },
    {
      "cell_type": "code",
      "source": [
        "customers [1][-1][-1]"
      ],
      "metadata": {
        "colab": {
          "base_uri": "https://localhost:8080/",
          "height": 36
        },
        "id": "Y_XvQjv2JFV_",
        "outputId": "2446b4eb-f234-4efa-e7b9-3e29f38e6dab"
      },
      "execution_count": 55,
      "outputs": [
        {
          "output_type": "execute_result",
          "data": {
            "text/plain": [
              "'Oil'"
            ],
            "application/vnd.google.colaboratory.intrinsic+json": {
              "type": "string"
            }
          },
          "metadata": {},
          "execution_count": 55
        }
      ]
    },
    {
      "cell_type": "code",
      "source": [
        "performance = [\n",
        "    [\"Surat\", [[\"Nikitha\",85],[\"Arun\", 78]]],\n",
        "    [\"pune\", [[\"Rohith\",90], [\"Swati\",88]]]\n",
        "]\n",
        "performance[0][-1][-1][-1]+performance[1][-1][-1][-1]"
      ],
      "metadata": {
        "colab": {
          "base_uri": "https://localhost:8080/"
        },
        "id": "8fWEJaQ1JFTo",
        "outputId": "bfe227ad-2bbe-4d80-c641-2d0c262cdf6e"
      },
      "execution_count": 58,
      "outputs": [
        {
          "output_type": "execute_result",
          "data": {
            "text/plain": [
              "166"
            ]
          },
          "metadata": {},
          "execution_count": 58
        }
      ]
    },
    {
      "cell_type": "code",
      "source": [
        "len(performance)"
      ],
      "metadata": {
        "colab": {
          "base_uri": "https://localhost:8080/"
        },
        "id": "O-mtIaBOJFQ8",
        "outputId": "8f0c6e80-a8e1-4315-c802-0c632d179a90"
      },
      "execution_count": 59,
      "outputs": [
        {
          "output_type": "execute_result",
          "data": {
            "text/plain": [
              "2"
            ]
          },
          "metadata": {},
          "execution_count": 59
        }
      ]
    },
    {
      "cell_type": "code",
      "source": [],
      "metadata": {
        "id": "J-9BrbEuMZLs"
      },
      "execution_count": null,
      "outputs": []
    },
    {
      "cell_type": "code",
      "source": [
        "weekly_sales=[\n",
        "    [\"chennai\",[12000,15000,17000]], #mon,tue,wed\n",
        "    [\"delhi\",[10000,11000,10500]],\n",
        "    [\"kolkata\",[9000,9500,9800]]\n",
        "]\n",
        "weekly_sales[0][1][-2]"
      ],
      "metadata": {
        "id": "s4LFP2vhWtTj",
        "outputId": "3a4e1b88-b89f-4e90-ad99-f8a7bb43403e",
        "colab": {
          "base_uri": "https://localhost:8080/"
        }
      },
      "execution_count": null,
      "outputs": [
        {
          "output_type": "execute_result",
          "data": {
            "text/plain": [
              "15000"
            ]
          },
          "metadata": {},
          "execution_count": 7
        }
      ]
    },
    {
      "cell_type": "code",
      "source": [
        "weekly_sales=[\n",
        "    [\"chennai\",[12000,15000,17000]], #mon,tue,wed\n",
        "    [\"delhi\",[10000,11000,10500]],\n",
        "    [\"kolkata\",[9000,9500,9800]]\n",
        "]\n",
        "weekly_sales[1][1]"
      ],
      "metadata": {
        "colab": {
          "base_uri": "https://localhost:8080/"
        },
        "id": "Vop9G6hqWtcY",
        "outputId": "851ee4bb-2727-403f-a4b3-6fb9f229550f"
      },
      "execution_count": null,
      "outputs": [
        {
          "output_type": "execute_result",
          "data": {
            "text/plain": [
              "[10000, 11000, 10500]"
            ]
          },
          "metadata": {},
          "execution_count": 9
        }
      ]
    },
    {
      "cell_type": "code",
      "source": [
        "weekly_sales[2][1][0]"
      ],
      "metadata": {
        "id": "I6YHwpl-WtfY",
        "outputId": "ce94ec11-84c8-4c64-af0f-e92a0f023262",
        "colab": {
          "base_uri": "https://localhost:8080/"
        }
      },
      "execution_count": null,
      "outputs": [
        {
          "output_type": "execute_result",
          "data": {
            "text/plain": [
              "9000"
            ]
          },
          "metadata": {},
          "execution_count": 14
        }
      ]
    },
    {
      "cell_type": "code",
      "source": [
        "weekly_sales[1][0]"
      ],
      "metadata": {
        "id": "g4U-P2wWWtiE",
        "outputId": "a2f5f5e6-899d-4e0e-dffb-34ae9ea5db67",
        "colab": {
          "base_uri": "https://localhost:8080/",
          "height": 36
        }
      },
      "execution_count": null,
      "outputs": [
        {
          "output_type": "execute_result",
          "data": {
            "text/plain": [
              "'delhi'"
            ],
            "application/vnd.google.colaboratory.intrinsic+json": {
              "type": "string"
            }
          },
          "metadata": {},
          "execution_count": 16
        }
      ]
    },
    {
      "cell_type": "code",
      "source": [
        "weekly_sales[0][1][2]"
      ],
      "metadata": {
        "id": "B3FVXZeBWtlB",
        "outputId": "17eb4c1a-77dd-4c67-a97d-6f8d732ac8d3",
        "colab": {
          "base_uri": "https://localhost:8080/"
        }
      },
      "execution_count": null,
      "outputs": [
        {
          "output_type": "execute_result",
          "data": {
            "text/plain": [
              "17000"
            ]
          },
          "metadata": {},
          "execution_count": 19
        }
      ]
    },
    {
      "cell_type": "code",
      "source": [
        "weekly_sales=[\n",
        "    [\"chennai\",[12000,15000,17000]], #mon,tue,wed\n",
        "    [\"delhi\",[10000,11000,10500]],\n",
        "    [\"kolkata\",[9000,9500,9800]]\n",
        "]\n",
        "weekly_sales[0][0]\n"
      ],
      "metadata": {
        "outputId": "1d5d548c-8be9-4638-8abd-897cb66a0b62",
        "colab": {
          "base_uri": "https://localhost:8080/",
          "height": 36
        },
        "id": "M1JXySTYbFz1"
      },
      "execution_count": null,
      "outputs": [
        {
          "output_type": "execute_result",
          "data": {
            "text/plain": [
              "'chennai'"
            ],
            "application/vnd.google.colaboratory.intrinsic+json": {
              "type": "string"
            }
          },
          "metadata": {},
          "execution_count": 35
        }
      ]
    },
    {
      "cell_type": "code",
      "source": [
        "weekly_sales[1][0]"
      ],
      "metadata": {
        "id": "GNKIJRcNWtw1",
        "outputId": "132b27ba-58f3-43f6-c05f-94ef13017a02",
        "colab": {
          "base_uri": "https://localhost:8080/",
          "height": 36
        }
      },
      "execution_count": null,
      "outputs": [
        {
          "output_type": "execute_result",
          "data": {
            "text/plain": [
              "'delhi'"
            ],
            "application/vnd.google.colaboratory.intrinsic+json": {
              "type": "string"
            }
          },
          "metadata": {},
          "execution_count": 36
        }
      ]
    },
    {
      "cell_type": "code",
      "source": [
        "weekly_sales[2][0]"
      ],
      "metadata": {
        "id": "zhIadSbUWtz5",
        "outputId": "a657004e-e4bb-4e3e-8383-4b466e23ce98",
        "colab": {
          "base_uri": "https://localhost:8080/",
          "height": 36
        }
      },
      "execution_count": null,
      "outputs": [
        {
          "output_type": "execute_result",
          "data": {
            "text/plain": [
              "'kolkata'"
            ],
            "application/vnd.google.colaboratory.intrinsic+json": {
              "type": "string"
            }
          },
          "metadata": {},
          "execution_count": 37
        }
      ]
    },
    {
      "cell_type": "code",
      "source": [
        "weekly_sales[0][0],weekly_sales[1][0],weekly_sales[2][0]\n"
      ],
      "metadata": {
        "id": "wE_l1LPXWt94",
        "outputId": "69e181f5-dc4d-46af-d295-0281c589a733",
        "colab": {
          "base_uri": "https://localhost:8080/"
        }
      },
      "execution_count": null,
      "outputs": [
        {
          "output_type": "execute_result",
          "data": {
            "text/plain": [
              "('chennai', 'delhi', 'kolkata')"
            ]
          },
          "metadata": {},
          "execution_count": 42
        }
      ]
    },
    {
      "cell_type": "code",
      "source": [
        "weekly_sales=[\n",
        "    [\"chennai\",[12000,15000,17000]], #mon,tue,wed\n",
        "    [\"delhi\",[10000,11000,10500]],\n",
        "    [\"kolkata\",[9000,9500,9800]]\n",
        "]"
      ],
      "metadata": {
        "id": "8tBEvt4dWuAy"
      },
      "execution_count": null,
      "outputs": []
    },
    {
      "cell_type": "code",
      "source": [
        "weekly_sales[1][-1]"
      ],
      "metadata": {
        "id": "ALSfdvhwWuEL",
        "outputId": "65b1b912-1cdd-40e8-f3e0-df6d99f51699",
        "colab": {
          "base_uri": "https://localhost:8080/"
        }
      },
      "execution_count": null,
      "outputs": [
        {
          "output_type": "execute_result",
          "data": {
            "text/plain": [
              "[10000, 11000, 10500]"
            ]
          },
          "metadata": {},
          "execution_count": 44
        }
      ]
    },
    {
      "cell_type": "code",
      "source": [
        "weekly_sales[0][1][-2]+weekly_sales[1][1][-2]+weekly_sales[2][1][-2]"
      ],
      "metadata": {
        "id": "_vQXLbj5czA1",
        "outputId": "14d36a40-796d-4a4e-988f-c38e73a9f996",
        "colab": {
          "base_uri": "https://localhost:8080/"
        }
      },
      "execution_count": null,
      "outputs": [
        {
          "output_type": "execute_result",
          "data": {
            "text/plain": [
              "35500"
            ]
          },
          "metadata": {},
          "execution_count": 52
        }
      ]
    },
    {
      "cell_type": "code",
      "source": [
        "weekly_sales[2][1][-3]+weekly_sales[2][1][-2]+weekly_sales[2][1][-1]"
      ],
      "metadata": {
        "id": "ZsQ1tM_JczDl",
        "outputId": "b0943b73-8083-43e3-a196-5505092d4aaa",
        "colab": {
          "base_uri": "https://localhost:8080/"
        }
      },
      "execution_count": null,
      "outputs": [
        {
          "output_type": "execute_result",
          "data": {
            "text/plain": [
              "28300"
            ]
          },
          "metadata": {},
          "execution_count": 64
        }
      ]
    },
    {
      "cell_type": "code",
      "source": [
        "weekly_sales[0][1][0]+weekly_sales[0][1][1]+weekly_sales[0][1][2]/3"
      ],
      "metadata": {
        "id": "BBIysarMczGN",
        "outputId": "d507e1d2-39ea-4a8d-ac0d-49505b6691bb",
        "colab": {
          "base_uri": "https://localhost:8080/"
        }
      },
      "execution_count": null,
      "outputs": [
        {
          "output_type": "execute_result",
          "data": {
            "text/plain": [
              "32666.666666666668"
            ]
          },
          "metadata": {},
          "execution_count": 74
        }
      ]
    },
    {
      "cell_type": "code",
      "source": [
        "weekly_sales[0][0]"
      ],
      "metadata": {
        "id": "rg5gP8e9czI3",
        "outputId": "8a10d1f0-8528-4567-e597-ef014e2cf7fd",
        "colab": {
          "base_uri": "https://localhost:8080/",
          "height": 36
        }
      },
      "execution_count": null,
      "outputs": [
        {
          "output_type": "execute_result",
          "data": {
            "text/plain": [
              "'chennai'"
            ],
            "application/vnd.google.colaboratory.intrinsic+json": {
              "type": "string"
            }
          },
          "metadata": {},
          "execution_count": 77
        }
      ]
    },
    {
      "cell_type": "code",
      "source": [
        "weekly_sales[2][0]"
      ],
      "metadata": {
        "id": "en2JszkRczLa",
        "outputId": "d20e3539-9405-4fe1-e878-fa440a99ef58",
        "colab": {
          "base_uri": "https://localhost:8080/",
          "height": 36
        }
      },
      "execution_count": null,
      "outputs": [
        {
          "output_type": "execute_result",
          "data": {
            "text/plain": [
              "'kolkata'"
            ],
            "application/vnd.google.colaboratory.intrinsic+json": {
              "type": "string"
            }
          },
          "metadata": {},
          "execution_count": 80
        }
      ]
    },
    {
      "cell_type": "code",
      "source": [
        "weekly_sales=[\n",
        "    [\"chennai\",[12000,15000,17000]], #mon,tue,wed\n",
        "    [\"delhi\",[10000,11000,10500]],\n",
        "    [\"kolkata\",[9000,9500,9800]]\n",
        "]"
      ],
      "metadata": {
        "id": "OG7-hH8OczOI"
      },
      "execution_count": null,
      "outputs": []
    },
    {
      "cell_type": "code",
      "source": [
        "weekly_sales[0][1][0]+weekly_sales[0][1][1]+weekly_sales[0][1][2]==weekly_sales[1][1][0]+weekly_sales[1][1][1]+weekly_sales[1][1][2]"
      ],
      "metadata": {
        "id": "-ZFeteZQczRd",
        "outputId": "510091fa-5f34-418b-8ffc-0e9a738cdc0b",
        "colab": {
          "base_uri": "https://localhost:8080/"
        }
      },
      "execution_count": null,
      "outputs": [
        {
          "output_type": "execute_result",
          "data": {
            "text/plain": [
              "False"
            ]
          },
          "metadata": {},
          "execution_count": 102
        }
      ]
    },
    {
      "cell_type": "code",
      "source": [
        "weekly_sales[0][1][0]+weekly_sales[0][1][1]+weekly_sales[0][1][2]<weekly_sales[1][1][0]+weekly_sales[1][1][1]+weekly_sales[1][1][2]"
      ],
      "metadata": {
        "id": "R9CMJCeEjbzZ",
        "outputId": "35c7e937-8e1a-4d96-809c-e249f289e475",
        "colab": {
          "base_uri": "https://localhost:8080/"
        }
      },
      "execution_count": null,
      "outputs": [
        {
          "output_type": "execute_result",
          "data": {
            "text/plain": [
              "False"
            ]
          },
          "metadata": {},
          "execution_count": 100
        }
      ]
    },
    {
      "cell_type": "code",
      "source": [
        "weekly_sales[0][1][0]+weekly_sales[0][1][1]+weekly_sales[0][1][2]>weekly_sales[1][1][0]+weekly_sales[1][1][1]+weekly_sales[1][1][2]"
      ],
      "metadata": {
        "id": "37WtmUn1kOXh",
        "outputId": "f29ffec2-9dc3-46c8-be76-19ec294897b2",
        "colab": {
          "base_uri": "https://localhost:8080/"
        }
      },
      "execution_count": null,
      "outputs": [
        {
          "output_type": "execute_result",
          "data": {
            "text/plain": [
              "True"
            ]
          },
          "metadata": {},
          "execution_count": 99
        }
      ]
    },
    {
      "cell_type": "code",
      "source": [
        "weekly_sales=[\n",
        "    [\"chennai\",[12000,15000,17000]], #mon,tue,wed\n",
        "    [\"delhi\",[10000,11000,10500]],\n",
        "    [\"kolkata\",[9000,9500,9800]]\n",
        "]"
      ],
      "metadata": {
        "id": "O7IseHGrjcCz"
      },
      "execution_count": null,
      "outputs": []
    },
    {
      "cell_type": "code",
      "source": [
        "weekly_sales[2][1][2]-weekly_sales[2][1][0]"
      ],
      "metadata": {
        "id": "bQ6ddZnOkQkU",
        "outputId": "ecc9fee4-9834-401f-c81f-f76f0a480e93",
        "colab": {
          "base_uri": "https://localhost:8080/"
        }
      },
      "execution_count": null,
      "outputs": [
        {
          "output_type": "execute_result",
          "data": {
            "text/plain": [
              "800"
            ]
          },
          "metadata": {},
          "execution_count": 91
        }
      ]
    },
    {
      "cell_type": "code",
      "source": [
        "weekly_sales[0][1][2]"
      ],
      "metadata": {
        "id": "k9bNcwaPkQnz",
        "outputId": "5f6cab1b-f786-4bc4-a2c0-4f930d6d0191",
        "colab": {
          "base_uri": "https://localhost:8080/"
        }
      },
      "execution_count": null,
      "outputs": [
        {
          "output_type": "execute_result",
          "data": {
            "text/plain": [
              "17000"
            ]
          },
          "metadata": {},
          "execution_count": 92
        }
      ]
    },
    {
      "cell_type": "code",
      "source": [],
      "metadata": {
        "id": "63FAEu_YMb2d"
      },
      "execution_count": null,
      "outputs": []
    },
    {
      "cell_type": "code",
      "source": [
        "x=[1,2,3,4]"
      ],
      "metadata": {
        "id": "QGVHZzygMcmM"
      },
      "execution_count": 60,
      "outputs": []
    },
    {
      "cell_type": "code",
      "source": [
        "x=[1,2,3,4]"
      ],
      "metadata": {
        "id": "UPlf35trNGYi"
      },
      "execution_count": 68,
      "outputs": []
    },
    {
      "cell_type": "code",
      "source": [
        "x"
      ],
      "metadata": {
        "colab": {
          "base_uri": "https://localhost:8080/"
        },
        "id": "HkDBpMaLNGV0",
        "outputId": "e3fe8baf-4ccb-412f-c8e3-795d5ff4cc61"
      },
      "execution_count": 69,
      "outputs": [
        {
          "output_type": "execute_result",
          "data": {
            "text/plain": [
              "[1, 2, 3, 4]"
            ]
          },
          "metadata": {},
          "execution_count": 69
        }
      ]
    },
    {
      "cell_type": "code",
      "source": [
        "x.append(20)"
      ],
      "metadata": {
        "id": "k0jwJMXhNTPD"
      },
      "execution_count": 70,
      "outputs": []
    },
    {
      "cell_type": "code",
      "source": [
        "x"
      ],
      "metadata": {
        "colab": {
          "base_uri": "https://localhost:8080/"
        },
        "id": "LLkmRVwrNTLs",
        "outputId": "f98930f2-f56c-4a77-f983-efba3c09f61d"
      },
      "execution_count": 71,
      "outputs": [
        {
          "output_type": "execute_result",
          "data": {
            "text/plain": [
              "[1, 2, 3, 4, 20]"
            ]
          },
          "metadata": {},
          "execution_count": 71
        }
      ]
    },
    {
      "cell_type": "code",
      "source": [
        "x.extend(\"data\")"
      ],
      "metadata": {
        "id": "66arh2xANZoO"
      },
      "execution_count": 72,
      "outputs": []
    },
    {
      "cell_type": "code",
      "source": [
        "x"
      ],
      "metadata": {
        "colab": {
          "base_uri": "https://localhost:8080/"
        },
        "id": "utOfzMy0NZlD",
        "outputId": "9b694dd3-7c80-4a6e-dfdb-b654e35ca67f"
      },
      "execution_count": 73,
      "outputs": [
        {
          "output_type": "execute_result",
          "data": {
            "text/plain": [
              "[1, 2, 3, 4, 20, 'd', 'a', 't', 'a']"
            ]
          },
          "metadata": {},
          "execution_count": 73
        }
      ]
    },
    {
      "cell_type": "code",
      "source": [
        "x=[1,2,3]\n",
        "y=[4,5,6]\n",
        "x.append(y)\n",
        "x"
      ],
      "metadata": {
        "colab": {
          "base_uri": "https://localhost:8080/"
        },
        "id": "JR1CIRFTNmHf",
        "outputId": "5a954e79-aa2f-4d0e-8231-98ae65ea5667"
      },
      "execution_count": 75,
      "outputs": [
        {
          "output_type": "execute_result",
          "data": {
            "text/plain": [
              "[1, 2, 3, [4, 5, 6]]"
            ]
          },
          "metadata": {},
          "execution_count": 75
        }
      ]
    },
    {
      "cell_type": "code",
      "source": [
        "x=[1,2,3]\n",
        "y=[4,5,6]\n",
        "x.extend(y)\n",
        "x"
      ],
      "metadata": {
        "colab": {
          "base_uri": "https://localhost:8080/"
        },
        "id": "ygANBiXrNmEp",
        "outputId": "ef96f7b5-273b-4eb9-bd81-440e6ad7c34d"
      },
      "execution_count": 76,
      "outputs": [
        {
          "output_type": "execute_result",
          "data": {
            "text/plain": [
              "[1, 2, 3, 4, 5, 6]"
            ]
          },
          "metadata": {},
          "execution_count": 76
        }
      ]
    },
    {
      "cell_type": "code",
      "source": [
        "x=[1,2,3,4]\n",
        "x.insert(-1,\"data\")\n",
        "x"
      ],
      "metadata": {
        "colab": {
          "base_uri": "https://localhost:8080/"
        },
        "id": "LkabOqy-OEZP",
        "outputId": "fb8b23a2-3cfa-426e-84d3-f48457f72bc7"
      },
      "execution_count": 78,
      "outputs": [
        {
          "output_type": "execute_result",
          "data": {
            "text/plain": [
              "[1, 2, 3, 'data', 4]"
            ]
          },
          "metadata": {},
          "execution_count": 78
        }
      ]
    },
    {
      "cell_type": "code",
      "source": [
        "x=[1,2,3,4]\n",
        "x.pop(2)\n",
        "x"
      ],
      "metadata": {
        "colab": {
          "base_uri": "https://localhost:8080/"
        },
        "id": "adKKWCRbOEU8",
        "outputId": "7b715d64-387e-4f23-e537-5b59566d4268"
      },
      "execution_count": 79,
      "outputs": [
        {
          "output_type": "execute_result",
          "data": {
            "text/plain": [
              "[1, 2, 4]"
            ]
          },
          "metadata": {},
          "execution_count": 79
        }
      ]
    },
    {
      "cell_type": "code",
      "source": [
        "x=[1,2,3,4]\n",
        "x.remove(2)\n",
        "x"
      ],
      "metadata": {
        "colab": {
          "base_uri": "https://localhost:8080/"
        },
        "id": "kbJZ3Sy7OERH",
        "outputId": "cb35112b-cab2-424e-b4b4-47fff9eeba75"
      },
      "execution_count": 80,
      "outputs": [
        {
          "output_type": "execute_result",
          "data": {
            "text/plain": [
              "[1, 3, 4]"
            ]
          },
          "metadata": {},
          "execution_count": 80
        }
      ]
    },
    {
      "cell_type": "code",
      "source": [
        "x=[1,2,2,3,4,5]\n",
        "x.count(2)"
      ],
      "metadata": {
        "colab": {
          "base_uri": "https://localhost:8080/"
        },
        "id": "VEtXT5GxOoZZ",
        "outputId": "0fb71ba5-832f-4209-d615-bf32a62eaed2"
      },
      "execution_count": 81,
      "outputs": [
        {
          "output_type": "execute_result",
          "data": {
            "text/plain": [
              "2"
            ]
          },
          "metadata": {},
          "execution_count": 81
        }
      ]
    },
    {
      "cell_type": "code",
      "source": [],
      "metadata": {
        "id": "AUgbcSJ7OoM2"
      },
      "execution_count": null,
      "outputs": []
    }
  ],
  "metadata": {
    "colab": {
      "toc_visible": true,
      "provenance": []
    },
    "kernelspec": {
      "display_name": "Python 3",
      "name": "python3"
    }
  },
  "nbformat": 4,
  "nbformat_minor": 0
}